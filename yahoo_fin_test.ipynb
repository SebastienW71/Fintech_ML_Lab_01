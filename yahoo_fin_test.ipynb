{
 "cells": [
  {
   "cell_type": "markdown",
   "metadata": {},
   "source": [
    "### Data Source from Yahoo_Finance"
   ]
  },
  {
   "cell_type": "code",
   "execution_count": 1,
   "metadata": {},
   "outputs": [],
   "source": [
    "import yahoo_fin.stock_info as si\n",
    "import numpy as np\n",
    "import pandas as pd"
   ]
  },
  {
   "cell_type": "code",
   "execution_count": 3,
   "metadata": {},
   "outputs": [
    {
     "data": {
      "text/plain": [
       "{'Earnings Estimate':   Earnings Estimate  Current Qtr. (Mar 2021)  Next Qtr. (Jun 2021)  \\\n",
       " 0   No. of Analysts                    37.00                 35.00   \n",
       " 1     Avg. Estimate                     9.37                 10.90   \n",
       " 2      Low Estimate                     6.41                  5.21   \n",
       " 3     High Estimate                    12.00                 13.09   \n",
       " 4      Year Ago EPS                     5.01                 10.30   \n",
       " \n",
       "    Current Year (2021)  Next Year (2022)  \n",
       " 0                45.00             44.00  \n",
       " 1                47.68             66.14  \n",
       " 2                31.49             36.71  \n",
       " 3                63.63             91.52  \n",
       " 4                41.83             47.68  ,\n",
       " 'Revenue Estimate':           Revenue Estimate Current Qtr. (Mar 2021) Next Qtr. (Jun 2021)  \\\n",
       " 0          No. of Analysts                      36                   35   \n",
       " 1            Avg. Estimate                 104.41B              107.83B   \n",
       " 2             Low Estimate                 100.46B               99.04B   \n",
       " 3            High Estimate                 107.47B              120.59B   \n",
       " 4           Year Ago Sales                  75.45B               88.91B   \n",
       " 5  Sales Growth (year/est)                  38.40%               21.30%   \n",
       " \n",
       "   Current Year (2021) Next Year (2022)  \n",
       " 0                  42               41  \n",
       " 1             473.93B          557.08B  \n",
       " 2             439.13B          505.68B  \n",
       " 3             511.17B          613.47B  \n",
       " 4             386.06B          473.93B  \n",
       " 5              22.80%           17.50%  ,\n",
       " 'Earnings History':   Earnings History 3/30/2020 6/29/2020 9/29/2020 12/30/2020\n",
       " 0         EPS Est.      6.25      1.46      7.41       7.23\n",
       " 1       EPS Actual      5.01      10.3     12.37      14.09\n",
       " 2       Difference     -1.24      8.84      4.96       6.86\n",
       " 3       Surprise %   -19.80%   605.50%    66.90%     94.90%,\n",
       " 'EPS Trend':           EPS Trend  Current Qtr. (Mar 2021)  Next Qtr. (Jun 2021)  \\\n",
       " 0  Current Estimate                     9.37                 10.90   \n",
       " 1        7 Days Ago                     9.40                 10.87   \n",
       " 2       30 Days Ago                     9.45                 10.91   \n",
       " 3       60 Days Ago                     9.22                 10.85   \n",
       " 4       90 Days Ago                     9.20                 10.83   \n",
       " \n",
       "    Current Year (2021)  Next Year (2022)  \n",
       " 0                47.68             66.14  \n",
       " 1                47.68             66.27  \n",
       " 2                46.99             66.04  \n",
       " 3                45.41             64.62  \n",
       " 4                45.37             64.62  ,\n",
       " 'EPS Revisions':        EPS Revisions  Current Qtr. (Mar 2021)  Next Qtr. (Jun 2021)  \\\n",
       " 0     Up Last 7 Days                      NaN                   NaN   \n",
       " 1    Up Last 30 Days                      2.0                   2.0   \n",
       " 2   Down Last 7 Days                      NaN                   NaN   \n",
       " 3  Down Last 30 Days                      NaN                   NaN   \n",
       " \n",
       "    Current Year (2021)  Next Year (2022)  \n",
       " 0                  NaN               NaN  \n",
       " 1                  6.0               5.0  \n",
       " 2                  NaN               NaN  \n",
       " 3                  NaN               NaN  ,\n",
       " 'Growth Estimates':            Growth Estimates     AMZN  Industry  Sector(s)  S&P 500\n",
       " 0              Current Qtr.   87.00%       NaN        NaN      NaN\n",
       " 1                 Next Qtr.    5.80%       NaN        NaN      NaN\n",
       " 2              Current Year   14.00%       NaN        NaN      NaN\n",
       " 3                 Next Year   38.70%       NaN        NaN      NaN\n",
       " 4  Next 5 Years (per annum)   38.37%       NaN        NaN      NaN\n",
       " 5  Past 5 Years (per annum)  100.60%       NaN        NaN      NaN}"
      ]
     },
     "execution_count": 3,
     "metadata": {},
     "output_type": "execute_result"
    }
   ],
   "source": [
    "si.get_analysts_info(\"AMZN\")"
   ]
  },
  {
   "cell_type": "code",
   "execution_count": null,
   "metadata": {},
   "outputs": [],
   "source": []
  }
 ],
 "metadata": {
  "kernelspec": {
   "display_name": "Python 3",
   "language": "python",
   "name": "python3"
  },
  "language_info": {
   "codemirror_mode": {
    "name": "ipython",
    "version": 3
   },
   "file_extension": ".py",
   "mimetype": "text/x-python",
   "name": "python",
   "nbconvert_exporter": "python",
   "pygments_lexer": "ipython3",
   "version": "3.8.3"
  }
 },
 "nbformat": 4,
 "nbformat_minor": 4
}
