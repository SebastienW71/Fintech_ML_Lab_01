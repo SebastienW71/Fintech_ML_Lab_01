{
 "cells": [
  {
   "cell_type": "markdown",
   "metadata": {},
   "source": [
    "### Data Source from Yahoo_Finance"
   ]
  },
  {
   "cell_type": "code",
   "execution_count": 94,
   "metadata": {},
   "outputs": [],
   "source": [
    "import yahoo_fin as yf\n",
    "import numpy as np\n",
    "import pandas as pd\n"
   ]
  },
  {
   "cell_type": "code",
   "execution_count": 97,
   "metadata": {},
   "outputs": [],
   "source": [
    "class data:\n",
    "    def __init__(self):\n",
    "        self.si = yf.stock_info\n",
    "    def get_Dailydata(self, _ticker, _startdate):\n",
    "        basic_data = self.si.get_data(_ticker, start_date = _startdate)\n",
    "        data = {\n",
    "            'open': round(basic_data['open'],2),\n",
    "            'high': round(basic_data['high'],2),\n",
    "            'low': round(basic_data['low'],2),\n",
    "            'close': round(basic_data['close'],2),\n",
    "            'volume': round(basic_data['volume'],2)\n",
    "        }\n",
    "        df = pd.DataFrame(data)\n",
    "        df = df.reset_index()\n",
    "        df = df.rename(columns={'index': 'date'})\n",
    "        return df"
   ]
  },
  {
   "cell_type": "code",
   "execution_count": 98,
   "metadata": {},
   "outputs": [
    {
     "data": {
      "text/html": [
       "<div>\n",
       "<style scoped>\n",
       "    .dataframe tbody tr th:only-of-type {\n",
       "        vertical-align: middle;\n",
       "    }\n",
       "\n",
       "    .dataframe tbody tr th {\n",
       "        vertical-align: top;\n",
       "    }\n",
       "\n",
       "    .dataframe thead th {\n",
       "        text-align: right;\n",
       "    }\n",
       "</style>\n",
       "<table border=\"1\" class=\"dataframe\">\n",
       "  <thead>\n",
       "    <tr style=\"text-align: right;\">\n",
       "      <th></th>\n",
       "      <th>date</th>\n",
       "      <th>open</th>\n",
       "      <th>high</th>\n",
       "      <th>low</th>\n",
       "      <th>close</th>\n",
       "      <th>volume</th>\n",
       "    </tr>\n",
       "  </thead>\n",
       "  <tbody>\n",
       "    <tr>\n",
       "      <th>0</th>\n",
       "      <td>2015-01-02</td>\n",
       "      <td>44.57</td>\n",
       "      <td>44.65</td>\n",
       "      <td>42.65</td>\n",
       "      <td>43.86</td>\n",
       "      <td>23822000</td>\n",
       "    </tr>\n",
       "    <tr>\n",
       "      <th>1</th>\n",
       "      <td>2015-01-05</td>\n",
       "      <td>42.91</td>\n",
       "      <td>43.30</td>\n",
       "      <td>41.43</td>\n",
       "      <td>42.02</td>\n",
       "      <td>26842500</td>\n",
       "    </tr>\n",
       "    <tr>\n",
       "      <th>2</th>\n",
       "      <td>2015-01-06</td>\n",
       "      <td>42.01</td>\n",
       "      <td>42.84</td>\n",
       "      <td>40.84</td>\n",
       "      <td>42.26</td>\n",
       "      <td>31309500</td>\n",
       "    </tr>\n",
       "    <tr>\n",
       "      <th>3</th>\n",
       "      <td>2015-01-07</td>\n",
       "      <td>42.67</td>\n",
       "      <td>42.96</td>\n",
       "      <td>41.96</td>\n",
       "      <td>42.19</td>\n",
       "      <td>14842000</td>\n",
       "    </tr>\n",
       "    <tr>\n",
       "      <th>4</th>\n",
       "      <td>2015-01-08</td>\n",
       "      <td>42.56</td>\n",
       "      <td>42.76</td>\n",
       "      <td>42.00</td>\n",
       "      <td>42.12</td>\n",
       "      <td>17212500</td>\n",
       "    </tr>\n",
       "    <tr>\n",
       "      <th>...</th>\n",
       "      <td>...</td>\n",
       "      <td>...</td>\n",
       "      <td>...</td>\n",
       "      <td>...</td>\n",
       "      <td>...</td>\n",
       "      <td>...</td>\n",
       "    </tr>\n",
       "    <tr>\n",
       "      <th>1554</th>\n",
       "      <td>2021-03-08</td>\n",
       "      <td>600.55</td>\n",
       "      <td>620.13</td>\n",
       "      <td>558.79</td>\n",
       "      <td>563.00</td>\n",
       "      <td>51497000</td>\n",
       "    </tr>\n",
       "    <tr>\n",
       "      <th>1555</th>\n",
       "      <td>2021-03-09</td>\n",
       "      <td>608.18</td>\n",
       "      <td>678.09</td>\n",
       "      <td>595.21</td>\n",
       "      <td>673.58</td>\n",
       "      <td>67028000</td>\n",
       "    </tr>\n",
       "    <tr>\n",
       "      <th>1556</th>\n",
       "      <td>2021-03-10</td>\n",
       "      <td>700.30</td>\n",
       "      <td>717.85</td>\n",
       "      <td>655.06</td>\n",
       "      <td>668.06</td>\n",
       "      <td>60486700</td>\n",
       "    </tr>\n",
       "    <tr>\n",
       "      <th>1557</th>\n",
       "      <td>2021-03-11</td>\n",
       "      <td>699.40</td>\n",
       "      <td>702.50</td>\n",
       "      <td>677.18</td>\n",
       "      <td>699.60</td>\n",
       "      <td>36106300</td>\n",
       "    </tr>\n",
       "    <tr>\n",
       "      <th>1558</th>\n",
       "      <td>2021-03-12</td>\n",
       "      <td>670.00</td>\n",
       "      <td>694.85</td>\n",
       "      <td>666.14</td>\n",
       "      <td>693.73</td>\n",
       "      <td>33059283</td>\n",
       "    </tr>\n",
       "  </tbody>\n",
       "</table>\n",
       "<p>1559 rows × 6 columns</p>\n",
       "</div>"
      ],
      "text/plain": [
       "           date    open    high     low   close    volume\n",
       "0    2015-01-02   44.57   44.65   42.65   43.86  23822000\n",
       "1    2015-01-05   42.91   43.30   41.43   42.02  26842500\n",
       "2    2015-01-06   42.01   42.84   40.84   42.26  31309500\n",
       "3    2015-01-07   42.67   42.96   41.96   42.19  14842000\n",
       "4    2015-01-08   42.56   42.76   42.00   42.12  17212500\n",
       "...         ...     ...     ...     ...     ...       ...\n",
       "1554 2021-03-08  600.55  620.13  558.79  563.00  51497000\n",
       "1555 2021-03-09  608.18  678.09  595.21  673.58  67028000\n",
       "1556 2021-03-10  700.30  717.85  655.06  668.06  60486700\n",
       "1557 2021-03-11  699.40  702.50  677.18  699.60  36106300\n",
       "1558 2021-03-12  670.00  694.85  666.14  693.73  33059283\n",
       "\n",
       "[1559 rows x 6 columns]"
      ]
     },
     "execution_count": 98,
     "metadata": {},
     "output_type": "execute_result"
    }
   ],
   "source": [
    "# data source test\n",
    "a = data()\n",
    "a.get_Dailydata(\"TSLA\", '01/01/2015')"
   ]
  },
  {
   "cell_type": "markdown",
   "metadata": {},
   "source": [
    "### back test frame\n",
    "1. buy_sell robot 2. wallet 3. back test robot"
   ]
  },
  {
   "cell_type": "code",
   "execution_count": 140,
   "metadata": {},
   "outputs": [],
   "source": [
    "class trade_Robot:\n",
    "    \n",
    "    # Only to execute buy or sell action, return remain capital, current holding position\n",
    "    # currentPosition 现有的持仓股数\n",
    "    # 预期购买的量由策略决定\n",
    "   \n",
    "    \n",
    "    def __init__(self, _currentPrice, _currentCapital, _currentPosition):\n",
    "        self.currentCapital = _currentCapital\n",
    "        self.currentPosition = _currentPosition\n",
    "        self.currentPrice = _currentPrice\n",
    "        \n",
    "    def buy(self, volume):\n",
    "        if volume % 100 != 0:\n",
    "            print('volume must be the multiple of 100')\n",
    "            return 'Trade failed'\n",
    "        if self.capital_Check('buy', volume):\n",
    "            self.currentCapital = self.currentCapital - volume*self.currentPrice\n",
    "            self.currentPosition = self.currentPosition + volume\n",
    "            return self.currentCapital, self.currentPosition, 'Buy'\n",
    "        else:\n",
    "            print('Trade failed')\n",
    "            return self.no_Action()\n",
    "        \n",
    "    def sell(self, volume):\n",
    "        if volume % 100 != 0:\n",
    "            print('volume must be the multiple of 100')\n",
    "            return 'Trade failed'\n",
    "        if self.capital_Check('sell', volume):\n",
    "            self.currentCapital = self.currentCapital + volume*self.currentPrice\n",
    "            self.currentPosition = self.currentPosition - volume\n",
    "            return self.currentCapital, self.currentPosition, 'Sell'\n",
    "        else:\n",
    "            print('Trade failed')\n",
    "            return self.no_Action()\n",
    "        \n",
    "    def no_Action(self):\n",
    "        return self.currentCapital, self.currentPosition, 'No Action'\n",
    "    \n",
    "    def capital_Check(self, action, volume):\n",
    "        if action == 'buy':\n",
    "            if self.currentCapital >= volume*self.currentPrice:\n",
    "                return True\n",
    "            else:\n",
    "                print('Insufficient current capital')\n",
    "                return False\n",
    "        if action == 'sell':\n",
    "            if self.currentPosition >= volume:\n",
    "                return True\n",
    "            else:\n",
    "                print('Insufficient holding position')\n",
    "                return False   "
   ]
  },
  {
   "cell_type": "code",
   "execution_count": 146,
   "metadata": {},
   "outputs": [],
   "source": [
    "t = trade_Robot(10, 10000, 400)"
   ]
  },
  {
   "cell_type": "code",
   "execution_count": 147,
   "metadata": {},
   "outputs": [
    {
     "data": {
      "text/plain": [
       "(14000, 0, 'Sell')"
      ]
     },
     "execution_count": 147,
     "metadata": {},
     "output_type": "execute_result"
    }
   ],
   "source": [
    "a = t.sell(400)\n",
    "a"
   ]
  },
  {
   "cell_type": "code",
   "execution_count": 132,
   "metadata": {},
   "outputs": [
    {
     "data": {
      "text/plain": [
       "<bound method trade_robot.no_Action of <__main__.trade_robot object at 0x000002E8D9EE3F40>>"
      ]
     },
     "execution_count": 132,
     "metadata": {},
     "output_type": "execute_result"
    }
   ],
   "source": [
    "class wallet:\n",
    "    def __init__(self, _initialCapital):\n",
    "    \n",
    "        return\n",
    "    \n",
    "    def initialization():\n",
    "        return\n",
    "    def update_Wallet():\n",
    "        return\n",
    "    def trade_"
   ]
  },
  {
   "cell_type": "code",
   "execution_count": null,
   "metadata": {},
   "outputs": [],
   "source": []
  }
 ],
 "metadata": {
  "kernelspec": {
   "display_name": "Python 3",
   "language": "python",
   "name": "python3"
  },
  "language_info": {
   "codemirror_mode": {
    "name": "ipython",
    "version": 3
   },
   "file_extension": ".py",
   "mimetype": "text/x-python",
   "name": "python",
   "nbconvert_exporter": "python",
   "pygments_lexer": "ipython3",
   "version": "3.8.3"
  }
 },
 "nbformat": 4,
 "nbformat_minor": 4
}
